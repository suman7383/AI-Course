{
 "cells": [
  {
   "cell_type": "code",
   "execution_count": 188,
   "id": "bc65952b",
   "metadata": {},
   "outputs": [],
   "source": [
    "import pandas as pd\n",
    "import matplotlib.pyplot as plt\n",
    "%matplotlib inline\n",
    "from sklearn.preprocessing import LabelEncoder\n",
    "from sklearn import datasets, linear_model\n",
    "from sklearn import preprocessing\n",
    "from sklearn.model_selection import train_test_split\n",
    "from sklearn.feature_selection import RFE"
   ]
  },
  {
   "cell_type": "code",
   "execution_count": 189,
   "id": "e4568157",
   "metadata": {},
   "outputs": [],
   "source": [
    "nbaData = pd.read_csv(\"NBA_data.csv\");"
   ]
  },
  {
   "cell_type": "code",
   "execution_count": 190,
   "id": "e5306904",
   "metadata": {},
   "outputs": [],
   "source": [
    "df = pd.DataFrame(nbaData)\n",
    "encoder = LabelEncoder()\n",
    "df['Position'] = encoder.fit_transform(df['Position'])"
   ]
  },
  {
   "cell_type": "code",
   "execution_count": 191,
   "id": "d4744c46",
   "metadata": {},
   "outputs": [
    {
     "name": "stderr",
     "output_type": "stream",
     "text": [
      "C:\\Users\\suman\\AppData\\Local\\Temp/ipykernel_29264/3166212163.py:1: FutureWarning: In a future version of pandas all arguments of DataFrame.drop except for the argument 'labels' will be keyword-only\n",
      "  df = df.drop('Player', 1)\n"
     ]
    }
   ],
   "source": [
    "df = df.drop('Player', 1)\n",
    "df = df.fillna(df.mean())"
   ]
  },
  {
   "cell_type": "code",
   "execution_count": 192,
   "id": "b3a1f0b5",
   "metadata": {},
   "outputs": [
    {
     "data": {
      "text/html": [
       "<div>\n",
       "<style scoped>\n",
       "    .dataframe tbody tr th:only-of-type {\n",
       "        vertical-align: middle;\n",
       "    }\n",
       "\n",
       "    .dataframe tbody tr th {\n",
       "        vertical-align: top;\n",
       "    }\n",
       "\n",
       "    .dataframe thead th {\n",
       "        text-align: right;\n",
       "    }\n",
       "</style>\n",
       "<table border=\"1\" class=\"dataframe\">\n",
       "  <thead>\n",
       "    <tr style=\"text-align: right;\">\n",
       "      <th></th>\n",
       "      <th>Position</th>\n",
       "      <th>Age</th>\n",
       "      <th>Games</th>\n",
       "      <th>Minutes Played</th>\n",
       "      <th>True Shooting(%)</th>\n",
       "      <th>Threepoint Attempt rate</th>\n",
       "      <th>Free throw attempt rate</th>\n",
       "      <th>Player Efficiency Rating</th>\n",
       "    </tr>\n",
       "  </thead>\n",
       "  <tbody>\n",
       "    <tr>\n",
       "      <th>0</th>\n",
       "      <td>0.500</td>\n",
       "      <td>0.567568</td>\n",
       "      <td>0.933333</td>\n",
       "      <td>0.370572</td>\n",
       "      <td>0.399333</td>\n",
       "      <td>0.000000</td>\n",
       "      <td>0.202850</td>\n",
       "      <td>0.369193</td>\n",
       "    </tr>\n",
       "    <tr>\n",
       "      <th>1</th>\n",
       "      <td>0.625</td>\n",
       "      <td>0.648649</td>\n",
       "      <td>0.200000</td>\n",
       "      <td>0.015441</td>\n",
       "      <td>0.083333</td>\n",
       "      <td>0.250000</td>\n",
       "      <td>0.000000</td>\n",
       "      <td>-0.168704</td>\n",
       "    </tr>\n",
       "    <tr>\n",
       "      <th>2</th>\n",
       "      <td>0.000</td>\n",
       "      <td>0.729730</td>\n",
       "      <td>0.900000</td>\n",
       "      <td>0.690282</td>\n",
       "      <td>0.394667</td>\n",
       "      <td>0.406362</td>\n",
       "      <td>0.148856</td>\n",
       "      <td>0.388753</td>\n",
       "    </tr>\n",
       "    <tr>\n",
       "      <th>3</th>\n",
       "      <td>0.000</td>\n",
       "      <td>0.621622</td>\n",
       "      <td>0.866667</td>\n",
       "      <td>0.792916</td>\n",
       "      <td>0.427333</td>\n",
       "      <td>0.015000</td>\n",
       "      <td>0.175853</td>\n",
       "      <td>0.555012</td>\n",
       "    </tr>\n",
       "    <tr>\n",
       "      <th>4</th>\n",
       "      <td>0.000</td>\n",
       "      <td>0.945946</td>\n",
       "      <td>0.600000</td>\n",
       "      <td>0.435967</td>\n",
       "      <td>0.361333</td>\n",
       "      <td>0.298000</td>\n",
       "      <td>0.034871</td>\n",
       "      <td>0.371638</td>\n",
       "    </tr>\n",
       "    <tr>\n",
       "      <th>...</th>\n",
       "      <td>...</td>\n",
       "      <td>...</td>\n",
       "      <td>...</td>\n",
       "      <td>...</td>\n",
       "      <td>...</td>\n",
       "      <td>...</td>\n",
       "      <td>...</td>\n",
       "      <td>...</td>\n",
       "    </tr>\n",
       "    <tr>\n",
       "      <th>492</th>\n",
       "      <td>1.000</td>\n",
       "      <td>0.756757</td>\n",
       "      <td>0.933333</td>\n",
       "      <td>0.747502</td>\n",
       "      <td>0.372667</td>\n",
       "      <td>0.298000</td>\n",
       "      <td>0.129734</td>\n",
       "      <td>0.405868</td>\n",
       "    </tr>\n",
       "    <tr>\n",
       "      <th>493</th>\n",
       "      <td>0.500</td>\n",
       "      <td>0.864865</td>\n",
       "      <td>0.766667</td>\n",
       "      <td>0.537693</td>\n",
       "      <td>0.398000</td>\n",
       "      <td>0.104000</td>\n",
       "      <td>0.063367</td>\n",
       "      <td>0.452323</td>\n",
       "    </tr>\n",
       "    <tr>\n",
       "      <th>494</th>\n",
       "      <td>0.625</td>\n",
       "      <td>0.594595</td>\n",
       "      <td>0.866667</td>\n",
       "      <td>0.818347</td>\n",
       "      <td>0.398667</td>\n",
       "      <td>0.349000</td>\n",
       "      <td>0.216348</td>\n",
       "      <td>0.559902</td>\n",
       "    </tr>\n",
       "    <tr>\n",
       "      <th>495</th>\n",
       "      <td>0.000</td>\n",
       "      <td>0.756757</td>\n",
       "      <td>0.500000</td>\n",
       "      <td>0.327884</td>\n",
       "      <td>0.379333</td>\n",
       "      <td>0.133000</td>\n",
       "      <td>0.090739</td>\n",
       "      <td>0.444988</td>\n",
       "    </tr>\n",
       "    <tr>\n",
       "      <th>496</th>\n",
       "      <td>0.000</td>\n",
       "      <td>0.621622</td>\n",
       "      <td>1.000000</td>\n",
       "      <td>0.532243</td>\n",
       "      <td>0.481333</td>\n",
       "      <td>0.007000</td>\n",
       "      <td>0.187477</td>\n",
       "      <td>0.501222</td>\n",
       "    </tr>\n",
       "  </tbody>\n",
       "</table>\n",
       "<p>497 rows × 8 columns</p>\n",
       "</div>"
      ],
      "text/plain": [
       "     Position       Age     Games  Minutes Played  True Shooting(%)  \\\n",
       "0       0.500  0.567568  0.933333        0.370572          0.399333   \n",
       "1       0.625  0.648649  0.200000        0.015441          0.083333   \n",
       "2       0.000  0.729730  0.900000        0.690282          0.394667   \n",
       "3       0.000  0.621622  0.866667        0.792916          0.427333   \n",
       "4       0.000  0.945946  0.600000        0.435967          0.361333   \n",
       "..        ...       ...       ...             ...               ...   \n",
       "492     1.000  0.756757  0.933333        0.747502          0.372667   \n",
       "493     0.500  0.864865  0.766667        0.537693          0.398000   \n",
       "494     0.625  0.594595  0.866667        0.818347          0.398667   \n",
       "495     0.000  0.756757  0.500000        0.327884          0.379333   \n",
       "496     0.000  0.621622  1.000000        0.532243          0.481333   \n",
       "\n",
       "     Threepoint Attempt rate  Free throw attempt rate  \\\n",
       "0                   0.000000                 0.202850   \n",
       "1                   0.250000                 0.000000   \n",
       "2                   0.406362                 0.148856   \n",
       "3                   0.015000                 0.175853   \n",
       "4                   0.298000                 0.034871   \n",
       "..                       ...                      ...   \n",
       "492                 0.298000                 0.129734   \n",
       "493                 0.104000                 0.063367   \n",
       "494                 0.349000                 0.216348   \n",
       "495                 0.133000                 0.090739   \n",
       "496                 0.007000                 0.187477   \n",
       "\n",
       "     Player Efficiency Rating  \n",
       "0                    0.369193  \n",
       "1                   -0.168704  \n",
       "2                    0.388753  \n",
       "3                    0.555012  \n",
       "4                    0.371638  \n",
       "..                        ...  \n",
       "492                  0.405868  \n",
       "493                  0.452323  \n",
       "494                  0.559902  \n",
       "495                  0.444988  \n",
       "496                  0.501222  \n",
       "\n",
       "[497 rows x 8 columns]"
      ]
     },
     "metadata": {},
     "output_type": "display_data"
    },
    {
     "data": {
      "text/plain": [
       "<AxesSubplot:>"
      ]
     },
     "execution_count": 192,
     "metadata": {},
     "output_type": "execute_result"
    },
    {
     "data": {
      "image/png": "[encoded data removed]",
      "text/plain": [
       "<Figure size 432x288 with 1 Axes>"
      ]
     },
     "metadata": {
      "needs_background": "light"
     },
     "output_type": "display_data"
    }
   ],
   "source": [
    "  \n",
    "# apply normalization techniques\n",
    "for column in df.columns:\n",
    "    df[column] = df[column]  / df[column].abs().max()\n",
    "\n",
    "      \n",
    "# view normalized data\n",
    "display(df)\n",
    "df.plot(kind = 'bar')"
   ]
  },
  {
   "cell_type": "code",
   "execution_count": 193,
   "id": "ffcf23e6",
   "metadata": {
    "scrolled": true
   },
   "outputs": [],
   "source": [
    "df = df.fillna(df.mean())"
   ]
  },
  {
   "cell_type": "code",
   "execution_count": 194,
   "id": "9ddf3a66",
   "metadata": {},
   "outputs": [
    {
     "data": {
      "image/png": "[encoded data removed]",
      "text/plain": [
       "<Figure size 432x288 with 1 Axes>"
      ]
     },
     "metadata": {
      "needs_background": "light"
     },
     "output_type": "display_data"
    }
   ],
   "source": [
    "plt.scatter(df[\"Age\"], df[\"Player Efficiency Rating\"])\n",
    "plt.show()"
   ]
  },
  {
   "cell_type": "code",
   "execution_count": 195,
   "id": "6a248a9b",
   "metadata": {},
   "outputs": [
    {
     "data": {
      "image/png": "[encoded data removed]",
      "text/plain": [
       "<Figure size 432x288 with 1 Axes>"
      ]
     },
     "metadata": {
      "needs_background": "light"
     },
     "output_type": "display_data"
    }
   ],
   "source": [
    "plt.scatter(df[\"Position\"], df[\"Player Efficiency Rating\"])\n",
    "plt.show()"
   ]
  },
  {
   "cell_type": "code",
   "execution_count": 196,
   "id": "3e856772",
   "metadata": {},
   "outputs": [
    {
     "data": {
      "image/png": "[encoded data removed]",
      "text/plain": [
       "<Figure size 432x288 with 1 Axes>"
      ]
     },
     "metadata": {
      "needs_background": "light"
     },
     "output_type": "display_data"
    }
   ],
   "source": [
    "plt.scatter(df[\"Games\"], df[\"Player Efficiency Rating\"])\n",
    "plt.show()"
   ]
  },
  {
   "cell_type": "code",
   "execution_count": 197,
   "id": "5509bc07",
   "metadata": {},
   "outputs": [
    {
     "name": "stderr",
     "output_type": "stream",
     "text": [
      "C:\\Users\\suman\\AppData\\Local\\Temp/ipykernel_29264/3858930376.py:1: FutureWarning: In a future version of pandas all arguments of DataFrame.drop except for the argument 'labels' will be keyword-only\n",
      "  x = df.drop(\"Player Efficiency Rating\", 1)\n"
     ]
    },
    {
     "data": {
      "text/html": [
       "<div>\n",
       "<style scoped>\n",
       "    .dataframe tbody tr th:only-of-type {\n",
       "        vertical-align: middle;\n",
       "    }\n",
       "\n",
       "    .dataframe tbody tr th {\n",
       "        vertical-align: top;\n",
       "    }\n",
       "\n",
       "    .dataframe thead th {\n",
       "        text-align: right;\n",
       "    }\n",
       "</style>\n",
       "<table border=\"1\" class=\"dataframe\">\n",
       "  <thead>\n",
       "    <tr style=\"text-align: right;\">\n",
       "      <th></th>\n",
       "      <th>Position</th>\n",
       "      <th>Age</th>\n",
       "      <th>Games</th>\n",
       "      <th>Minutes Played</th>\n",
       "      <th>True Shooting(%)</th>\n",
       "      <th>Threepoint Attempt rate</th>\n",
       "      <th>Free throw attempt rate</th>\n",
       "    </tr>\n",
       "  </thead>\n",
       "  <tbody>\n",
       "    <tr>\n",
       "      <th>0</th>\n",
       "      <td>0.500</td>\n",
       "      <td>0.567568</td>\n",
       "      <td>0.933333</td>\n",
       "      <td>0.370572</td>\n",
       "      <td>0.399333</td>\n",
       "      <td>0.000000</td>\n",
       "      <td>0.202850</td>\n",
       "    </tr>\n",
       "    <tr>\n",
       "      <th>1</th>\n",
       "      <td>0.625</td>\n",
       "      <td>0.648649</td>\n",
       "      <td>0.200000</td>\n",
       "      <td>0.015441</td>\n",
       "      <td>0.083333</td>\n",
       "      <td>0.250000</td>\n",
       "      <td>0.000000</td>\n",
       "    </tr>\n",
       "    <tr>\n",
       "      <th>2</th>\n",
       "      <td>0.000</td>\n",
       "      <td>0.729730</td>\n",
       "      <td>0.900000</td>\n",
       "      <td>0.690282</td>\n",
       "      <td>0.394667</td>\n",
       "      <td>0.406362</td>\n",
       "      <td>0.148856</td>\n",
       "    </tr>\n",
       "    <tr>\n",
       "      <th>3</th>\n",
       "      <td>0.000</td>\n",
       "      <td>0.621622</td>\n",
       "      <td>0.866667</td>\n",
       "      <td>0.792916</td>\n",
       "      <td>0.427333</td>\n",
       "      <td>0.015000</td>\n",
       "      <td>0.175853</td>\n",
       "    </tr>\n",
       "    <tr>\n",
       "      <th>4</th>\n",
       "      <td>0.000</td>\n",
       "      <td>0.945946</td>\n",
       "      <td>0.600000</td>\n",
       "      <td>0.435967</td>\n",
       "      <td>0.361333</td>\n",
       "      <td>0.298000</td>\n",
       "      <td>0.034871</td>\n",
       "    </tr>\n",
       "    <tr>\n",
       "      <th>...</th>\n",
       "      <td>...</td>\n",
       "      <td>...</td>\n",
       "      <td>...</td>\n",
       "      <td>...</td>\n",
       "      <td>...</td>\n",
       "      <td>...</td>\n",
       "      <td>...</td>\n",
       "    </tr>\n",
       "    <tr>\n",
       "      <th>492</th>\n",
       "      <td>1.000</td>\n",
       "      <td>0.756757</td>\n",
       "      <td>0.933333</td>\n",
       "      <td>0.747502</td>\n",
       "      <td>0.372667</td>\n",
       "      <td>0.298000</td>\n",
       "      <td>0.129734</td>\n",
       "    </tr>\n",
       "    <tr>\n",
       "      <th>493</th>\n",
       "      <td>0.500</td>\n",
       "      <td>0.864865</td>\n",
       "      <td>0.766667</td>\n",
       "      <td>0.537693</td>\n",
       "      <td>0.398000</td>\n",
       "      <td>0.104000</td>\n",
       "      <td>0.063367</td>\n",
       "    </tr>\n",
       "    <tr>\n",
       "      <th>494</th>\n",
       "      <td>0.625</td>\n",
       "      <td>0.594595</td>\n",
       "      <td>0.866667</td>\n",
       "      <td>0.818347</td>\n",
       "      <td>0.398667</td>\n",
       "      <td>0.349000</td>\n",
       "      <td>0.216348</td>\n",
       "    </tr>\n",
       "    <tr>\n",
       "      <th>495</th>\n",
       "      <td>0.000</td>\n",
       "      <td>0.756757</td>\n",
       "      <td>0.500000</td>\n",
       "      <td>0.327884</td>\n",
       "      <td>0.379333</td>\n",
       "      <td>0.133000</td>\n",
       "      <td>0.090739</td>\n",
       "    </tr>\n",
       "    <tr>\n",
       "      <th>496</th>\n",
       "      <td>0.000</td>\n",
       "      <td>0.621622</td>\n",
       "      <td>1.000000</td>\n",
       "      <td>0.532243</td>\n",
       "      <td>0.481333</td>\n",
       "      <td>0.007000</td>\n",
       "      <td>0.187477</td>\n",
       "    </tr>\n",
       "  </tbody>\n",
       "</table>\n",
       "<p>497 rows × 7 columns</p>\n",
       "</div>"
      ],
      "text/plain": [
       "     Position       Age     Games  Minutes Played  True Shooting(%)  \\\n",
       "0       0.500  0.567568  0.933333        0.370572          0.399333   \n",
       "1       0.625  0.648649  0.200000        0.015441          0.083333   \n",
       "2       0.000  0.729730  0.900000        0.690282          0.394667   \n",
       "3       0.000  0.621622  0.866667        0.792916          0.427333   \n",
       "4       0.000  0.945946  0.600000        0.435967          0.361333   \n",
       "..        ...       ...       ...             ...               ...   \n",
       "492     1.000  0.756757  0.933333        0.747502          0.372667   \n",
       "493     0.500  0.864865  0.766667        0.537693          0.398000   \n",
       "494     0.625  0.594595  0.866667        0.818347          0.398667   \n",
       "495     0.000  0.756757  0.500000        0.327884          0.379333   \n",
       "496     0.000  0.621622  1.000000        0.532243          0.481333   \n",
       "\n",
       "     Threepoint Attempt rate  Free throw attempt rate  \n",
       "0                   0.000000                 0.202850  \n",
       "1                   0.250000                 0.000000  \n",
       "2                   0.406362                 0.148856  \n",
       "3                   0.015000                 0.175853  \n",
       "4                   0.298000                 0.034871  \n",
       "..                       ...                      ...  \n",
       "492                 0.298000                 0.129734  \n",
       "493                 0.104000                 0.063367  \n",
       "494                 0.349000                 0.216348  \n",
       "495                 0.133000                 0.090739  \n",
       "496                 0.007000                 0.187477  \n",
       "\n",
       "[497 rows x 7 columns]"
      ]
     },
     "metadata": {},
     "output_type": "display_data"
    },
    {
     "data": {
      "text/plain": [
       "0      0.369193\n",
       "1     -0.168704\n",
       "2      0.388753\n",
       "3      0.555012\n",
       "4      0.371638\n",
       "         ...   \n",
       "492    0.405868\n",
       "493    0.452323\n",
       "494    0.559902\n",
       "495    0.444988\n",
       "496    0.501222\n",
       "Name: Player Efficiency Rating, Length: 497, dtype: float64"
      ]
     },
     "metadata": {},
     "output_type": "display_data"
    }
   ],
   "source": [
    "x = df.drop(\"Player Efficiency Rating\", 1)\n",
    "display(x)\n",
    "y = df['Player Efficiency Rating']\n",
    "display(y)\n",
    "x_train, x_test, y_train,y_test = train_test_split(x, y, test_size = 0.25);"
   ]
  },
  {
   "cell_type": "code",
   "execution_count": 198,
   "id": "446d6597",
   "metadata": {},
   "outputs": [
    {
     "name": "stdout",
     "output_type": "stream",
     "text": [
      "(372, 7) (372,)\n",
      "(125, 7) (125,)\n"
     ]
    }
   ],
   "source": [
    "print(x_train.shape, y_train.shape)\n",
    "print(x_test.shape, y_test.shape)"
   ]
  },
  {
   "cell_type": "code",
   "execution_count": 199,
   "id": "025032b1",
   "metadata": {},
   "outputs": [],
   "source": [
    "lrm = linear_model.LinearRegression()\n",
    "lrm_model = lrm.fit(x_train, y_train)\n",
    "lrm_predictions = lrm.predict(x_test)"
   ]
  },
  {
   "cell_type": "code",
   "execution_count": 200,
   "id": "d6b10eed",
   "metadata": {},
   "outputs": [
    {
     "data": {
      "text/plain": [
       "array([ 0.39950448,  0.39931634, -0.01108118,  0.39044249,  0.41090883,\n",
       "        0.34439739,  0.41013311,  0.33704924,  0.25461303,  0.55337643])"
      ]
     },
     "execution_count": 200,
     "metadata": {},
     "output_type": "execute_result"
    }
   ],
   "source": [
    "lrm_predictions[0:10]"
   ]
  },
  {
   "cell_type": "code",
   "execution_count": 201,
   "id": "d24303f6",
   "metadata": {},
   "outputs": [
    {
     "data": {
      "text/plain": [
       "Text(0, 0.5, 'Predicted Values')"
      ]
     },
     "execution_count": 201,
     "metadata": {},
     "output_type": "execute_result"
    },
    {
     "data": {
      "image/png": "[encoded data removed]",
      "text/plain": [
       "<Figure size 432x288 with 1 Axes>"
      ]
     },
     "metadata": {
      "needs_background": "light"
     },
     "output_type": "display_data"
    }
   ],
   "source": [
    "plt.scatter(y_test, lrm_predictions)\n",
    "plt.title(\"Predicted vs Actual Values\")\n",
    "plt.xlabel('Actual Values')\n",
    "plt.ylabel('Predicted Values')"
   ]
  },
  {
   "cell_type": "code",
   "execution_count": 202,
   "id": "0b90157d",
   "metadata": {},
   "outputs": [
    {
     "name": "stdout",
     "output_type": "stream",
     "text": [
      "Score 0.6122328841194069\n"
     ]
    }
   ],
   "source": [
    "print('Score', lrm_model.score(x_test, y_test))"
   ]
  },
  {
   "cell_type": "code",
   "execution_count": null,
   "id": "1e65a4d5",
   "metadata": {},
   "outputs": [],
   "source": []
  }
 ],
 "metadata": {
  "kernelspec": {
   "display_name": "Python 3 (ipykernel)",
   "language": "python",
   "name": "python3"
  },
  "language_info": {
   "codemirror_mode": {
    "name": "ipython",
    "version": 3
   },
   "file_extension": ".py",
   "mimetype": "text/x-python",
   "name": "python",
   "nbconvert_exporter": "python",
   "pygments_lexer": "ipython3",
   "version": "3.9.7"
  }
 },
 "nbformat": 4,
 "nbformat_minor": 5
}
