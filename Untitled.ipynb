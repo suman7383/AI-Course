{
 "cells": [
  {
   "cell_type": "code",
   "execution_count": 326,
   "id": "bc65952b",
   "metadata": {},
   "outputs": [],
   "source": [
    "import pandas as pd\n",
    "import matplotlib.pyplot as plt\n",
    "%matplotlib inline\n",
    "from sklearn.preprocessing import LabelEncoder\n",
    "from sklearn import datasets, linear_model\n",
    "from sklearn import preprocessing\n",
    "from sklearn.model_selection import train_test_split\n",
    "from sklearn.feature_selection import RFE"
   ]
  },
  {
   "cell_type": "code",
   "execution_count": 327,
   "id": "e4568157",
   "metadata": {},
   "outputs": [],
   "source": [
    "nbaData = pd.read_csv(\"NBA_data.csv\");"
   ]
  },
  {
   "cell_type": "code",
   "execution_count": 328,
   "id": "e5306904",
   "metadata": {},
   "outputs": [
    {
     "name": "stderr",
     "output_type": "stream",
     "text": [
      "C:\\Users\\suman\\AppData\\Local\\Temp/ipykernel_29264/641782537.py:2: FutureWarning: In a future version of pandas all arguments of DataFrame.drop except for the argument 'labels' will be keyword-only\n",
      "  df = df.drop('Position', 1)\n"
     ]
    }
   ],
   "source": [
    "df = pd.DataFrame(nbaData)\n",
    "df = df.drop('Position', 1)"
   ]
  },
  {
   "cell_type": "code",
   "execution_count": 329,
   "id": "d4744c46",
   "metadata": {},
   "outputs": [
    {
     "name": "stderr",
     "output_type": "stream",
     "text": [
      "C:\\Users\\suman\\AppData\\Local\\Temp/ipykernel_29264/3166212163.py:1: FutureWarning: In a future version of pandas all arguments of DataFrame.drop except for the argument 'labels' will be keyword-only\n",
      "  df = df.drop('Player', 1)\n"
     ]
    }
   ],
   "source": [
    "df = df.drop('Player', 1)\n",
    "df = df.fillna(df.mean())"
   ]
  },
  {
   "cell_type": "code",
   "execution_count": 330,
   "id": "234c45f7",
   "metadata": {},
   "outputs": [
    {
     "data": {
      "text/html": [
       "<div>\n",
       "<style scoped>\n",
       "    .dataframe tbody tr th:only-of-type {\n",
       "        vertical-align: middle;\n",
       "    }\n",
       "\n",
       "    .dataframe tbody tr th {\n",
       "        vertical-align: top;\n",
       "    }\n",
       "\n",
       "    .dataframe thead th {\n",
       "        text-align: right;\n",
       "    }\n",
       "</style>\n",
       "<table border=\"1\" class=\"dataframe\">\n",
       "  <thead>\n",
       "    <tr style=\"text-align: right;\">\n",
       "      <th></th>\n",
       "      <th>Age</th>\n",
       "      <th>Games</th>\n",
       "      <th>Minutes Played</th>\n",
       "      <th>True Shooting(%)</th>\n",
       "      <th>Threepoint Attempt rate</th>\n",
       "      <th>Free throw attempt rate</th>\n",
       "      <th>Player Efficiency Rating</th>\n",
       "    </tr>\n",
       "  </thead>\n",
       "  <tbody>\n",
       "    <tr>\n",
       "      <th>0</th>\n",
       "      <td>21</td>\n",
       "      <td>28</td>\n",
       "      <td>0.370572</td>\n",
       "      <td>0.599</td>\n",
       "      <td>0.000000</td>\n",
       "      <td>0.541</td>\n",
       "      <td>15.1</td>\n",
       "    </tr>\n",
       "    <tr>\n",
       "      <th>1</th>\n",
       "      <td>24</td>\n",
       "      <td>6</td>\n",
       "      <td>0.015441</td>\n",
       "      <td>0.125</td>\n",
       "      <td>0.250000</td>\n",
       "      <td>0.000</td>\n",
       "      <td>-6.9</td>\n",
       "    </tr>\n",
       "    <tr>\n",
       "      <th>2</th>\n",
       "      <td>27</td>\n",
       "      <td>27</td>\n",
       "      <td>0.690282</td>\n",
       "      <td>0.592</td>\n",
       "      <td>0.406362</td>\n",
       "      <td>0.397</td>\n",
       "      <td>15.9</td>\n",
       "    </tr>\n",
       "    <tr>\n",
       "      <th>3</th>\n",
       "      <td>23</td>\n",
       "      <td>26</td>\n",
       "      <td>0.792916</td>\n",
       "      <td>0.641</td>\n",
       "      <td>0.015000</td>\n",
       "      <td>0.469</td>\n",
       "      <td>22.7</td>\n",
       "    </tr>\n",
       "    <tr>\n",
       "      <th>4</th>\n",
       "      <td>35</td>\n",
       "      <td>18</td>\n",
       "      <td>0.435967</td>\n",
       "      <td>0.542</td>\n",
       "      <td>0.298000</td>\n",
       "      <td>0.093</td>\n",
       "      <td>15.2</td>\n",
       "    </tr>\n",
       "    <tr>\n",
       "      <th>...</th>\n",
       "      <td>...</td>\n",
       "      <td>...</td>\n",
       "      <td>...</td>\n",
       "      <td>...</td>\n",
       "      <td>...</td>\n",
       "      <td>...</td>\n",
       "      <td>...</td>\n",
       "    </tr>\n",
       "    <tr>\n",
       "      <th>492</th>\n",
       "      <td>28</td>\n",
       "      <td>28</td>\n",
       "      <td>0.747502</td>\n",
       "      <td>0.559</td>\n",
       "      <td>0.298000</td>\n",
       "      <td>0.346</td>\n",
       "      <td>16.6</td>\n",
       "    </tr>\n",
       "    <tr>\n",
       "      <th>493</th>\n",
       "      <td>32</td>\n",
       "      <td>23</td>\n",
       "      <td>0.537693</td>\n",
       "      <td>0.597</td>\n",
       "      <td>0.104000</td>\n",
       "      <td>0.169</td>\n",
       "      <td>18.5</td>\n",
       "    </tr>\n",
       "    <tr>\n",
       "      <th>494</th>\n",
       "      <td>22</td>\n",
       "      <td>26</td>\n",
       "      <td>0.818347</td>\n",
       "      <td>0.598</td>\n",
       "      <td>0.349000</td>\n",
       "      <td>0.577</td>\n",
       "      <td>22.9</td>\n",
       "    </tr>\n",
       "    <tr>\n",
       "      <th>495</th>\n",
       "      <td>28</td>\n",
       "      <td>15</td>\n",
       "      <td>0.327884</td>\n",
       "      <td>0.569</td>\n",
       "      <td>0.133000</td>\n",
       "      <td>0.242</td>\n",
       "      <td>18.2</td>\n",
       "    </tr>\n",
       "    <tr>\n",
       "      <th>496</th>\n",
       "      <td>23</td>\n",
       "      <td>30</td>\n",
       "      <td>0.532243</td>\n",
       "      <td>0.722</td>\n",
       "      <td>0.007000</td>\n",
       "      <td>0.500</td>\n",
       "      <td>20.5</td>\n",
       "    </tr>\n",
       "  </tbody>\n",
       "</table>\n",
       "<p>497 rows × 7 columns</p>\n",
       "</div>"
      ],
      "text/plain": [
       "     Age  Games  Minutes Played  True Shooting(%)  Threepoint Attempt rate  \\\n",
       "0     21     28        0.370572             0.599                 0.000000   \n",
       "1     24      6        0.015441             0.125                 0.250000   \n",
       "2     27     27        0.690282             0.592                 0.406362   \n",
       "3     23     26        0.792916             0.641                 0.015000   \n",
       "4     35     18        0.435967             0.542                 0.298000   \n",
       "..   ...    ...             ...               ...                      ...   \n",
       "492   28     28        0.747502             0.559                 0.298000   \n",
       "493   32     23        0.537693             0.597                 0.104000   \n",
       "494   22     26        0.818347             0.598                 0.349000   \n",
       "495   28     15        0.327884             0.569                 0.133000   \n",
       "496   23     30        0.532243             0.722                 0.007000   \n",
       "\n",
       "     Free throw attempt rate  Player Efficiency Rating  \n",
       "0                      0.541                      15.1  \n",
       "1                      0.000                      -6.9  \n",
       "2                      0.397                      15.9  \n",
       "3                      0.469                      22.7  \n",
       "4                      0.093                      15.2  \n",
       "..                       ...                       ...  \n",
       "492                    0.346                      16.6  \n",
       "493                    0.169                      18.5  \n",
       "494                    0.577                      22.9  \n",
       "495                    0.242                      18.2  \n",
       "496                    0.500                      20.5  \n",
       "\n",
       "[497 rows x 7 columns]"
      ]
     },
     "metadata": {},
     "output_type": "display_data"
    },
    {
     "data": {
      "text/plain": [
       "<AxesSubplot:>"
      ]
     },
     "execution_count": 330,
     "metadata": {},
     "output_type": "execute_result"
    },
    {
     "data": {
      "image/png": "[encoded data removed]",
      "text/plain": [
       "<Figure size 432x288 with 1 Axes>"
      ]
     },
     "metadata": {
      "needs_background": "light"
     },
     "output_type": "display_data"
    }
   ],
   "source": [
    "  \n",
    "# apply normalization techniques\n",
    "df['Minutes Played'] = df['Minutes Played']  / df['Minutes Played'].abs().max()\n",
    "\n",
    "      \n",
    "# view normalized data\n",
    "display(df)\n",
    "df.plot(kind = 'bar')"
   ]
  },
  {
   "cell_type": "code",
   "execution_count": 331,
   "id": "ffcf23e6",
   "metadata": {
    "scrolled": true
   },
   "outputs": [],
   "source": [
    "df = df.fillna(df.mean())"
   ]
  },
  {
   "cell_type": "code",
   "execution_count": 332,
   "id": "9ddf3a66",
   "metadata": {},
   "outputs": [
    {
     "data": {
      "image/png": "[encoded data removed]",
      "text/plain": [
       "<Figure size 432x288 with 1 Axes>"
      ]
     },
     "metadata": {
      "needs_background": "light"
     },
     "output_type": "display_data"
    }
   ],
   "source": [
    "plt.scatter(df[\"Age\"], df[\"Player Efficiency Rating\"])\n",
    "plt.show()"
   ]
  },
  {
   "cell_type": "code",
   "execution_count": 333,
   "id": "3e856772",
   "metadata": {},
   "outputs": [
    {
     "data": {
      "image/png": "[encoded data removed]",
      "text/plain": [
       "<Figure size 432x288 with 1 Axes>"
      ]
     },
     "metadata": {
      "needs_background": "light"
     },
     "output_type": "display_data"
    }
   ],
   "source": [
    "plt.scatter(df[\"Games\"], df[\"Player Efficiency Rating\"])\n",
    "plt.show()"
   ]
  },
  {
   "cell_type": "code",
   "execution_count": 334,
   "id": "be175890",
   "metadata": {},
   "outputs": [
    {
     "name": "stderr",
     "output_type": "stream",
     "text": [
      "C:\\Users\\suman\\AppData\\Local\\Temp/ipykernel_29264/2199075998.py:1: FutureWarning: In a future version of pandas all arguments of DataFrame.drop except for the argument 'labels' will be keyword-only\n",
      "  x = df.drop(\"Player Efficiency Rating\", 1)\n",
      "C:\\Users\\suman\\AppData\\Local\\Temp/ipykernel_29264/2199075998.py:3: FutureWarning: In a future version of pandas all arguments of DataFrame.drop except for the argument 'labels' will be keyword-only\n",
      "  df = df.drop(\"Player Efficiency Rating\", 1)\n"
     ]
    },
    {
     "data": {
      "text/html": [
       "<div>\n",
       "<style scoped>\n",
       "    .dataframe tbody tr th:only-of-type {\n",
       "        vertical-align: middle;\n",
       "    }\n",
       "\n",
       "    .dataframe tbody tr th {\n",
       "        vertical-align: top;\n",
       "    }\n",
       "\n",
       "    .dataframe thead th {\n",
       "        text-align: right;\n",
       "    }\n",
       "</style>\n",
       "<table border=\"1\" class=\"dataframe\">\n",
       "  <thead>\n",
       "    <tr style=\"text-align: right;\">\n",
       "      <th></th>\n",
       "      <th>Age</th>\n",
       "      <th>Games</th>\n",
       "      <th>Minutes Played</th>\n",
       "      <th>True Shooting(%)</th>\n",
       "      <th>Threepoint Attempt rate</th>\n",
       "      <th>Free throw attempt rate</th>\n",
       "    </tr>\n",
       "  </thead>\n",
       "  <tbody>\n",
       "    <tr>\n",
       "      <th>0</th>\n",
       "      <td>21</td>\n",
       "      <td>28</td>\n",
       "      <td>0.370572</td>\n",
       "      <td>0.599</td>\n",
       "      <td>0.000000</td>\n",
       "      <td>0.541</td>\n",
       "    </tr>\n",
       "    <tr>\n",
       "      <th>1</th>\n",
       "      <td>24</td>\n",
       "      <td>6</td>\n",
       "      <td>0.015441</td>\n",
       "      <td>0.125</td>\n",
       "      <td>0.250000</td>\n",
       "      <td>0.000</td>\n",
       "    </tr>\n",
       "    <tr>\n",
       "      <th>2</th>\n",
       "      <td>27</td>\n",
       "      <td>27</td>\n",
       "      <td>0.690282</td>\n",
       "      <td>0.592</td>\n",
       "      <td>0.406362</td>\n",
       "      <td>0.397</td>\n",
       "    </tr>\n",
       "    <tr>\n",
       "      <th>3</th>\n",
       "      <td>23</td>\n",
       "      <td>26</td>\n",
       "      <td>0.792916</td>\n",
       "      <td>0.641</td>\n",
       "      <td>0.015000</td>\n",
       "      <td>0.469</td>\n",
       "    </tr>\n",
       "    <tr>\n",
       "      <th>4</th>\n",
       "      <td>35</td>\n",
       "      <td>18</td>\n",
       "      <td>0.435967</td>\n",
       "      <td>0.542</td>\n",
       "      <td>0.298000</td>\n",
       "      <td>0.093</td>\n",
       "    </tr>\n",
       "    <tr>\n",
       "      <th>...</th>\n",
       "      <td>...</td>\n",
       "      <td>...</td>\n",
       "      <td>...</td>\n",
       "      <td>...</td>\n",
       "      <td>...</td>\n",
       "      <td>...</td>\n",
       "    </tr>\n",
       "    <tr>\n",
       "      <th>492</th>\n",
       "      <td>28</td>\n",
       "      <td>28</td>\n",
       "      <td>0.747502</td>\n",
       "      <td>0.559</td>\n",
       "      <td>0.298000</td>\n",
       "      <td>0.346</td>\n",
       "    </tr>\n",
       "    <tr>\n",
       "      <th>493</th>\n",
       "      <td>32</td>\n",
       "      <td>23</td>\n",
       "      <td>0.537693</td>\n",
       "      <td>0.597</td>\n",
       "      <td>0.104000</td>\n",
       "      <td>0.169</td>\n",
       "    </tr>\n",
       "    <tr>\n",
       "      <th>494</th>\n",
       "      <td>22</td>\n",
       "      <td>26</td>\n",
       "      <td>0.818347</td>\n",
       "      <td>0.598</td>\n",
       "      <td>0.349000</td>\n",
       "      <td>0.577</td>\n",
       "    </tr>\n",
       "    <tr>\n",
       "      <th>495</th>\n",
       "      <td>28</td>\n",
       "      <td>15</td>\n",
       "      <td>0.327884</td>\n",
       "      <td>0.569</td>\n",
       "      <td>0.133000</td>\n",
       "      <td>0.242</td>\n",
       "    </tr>\n",
       "    <tr>\n",
       "      <th>496</th>\n",
       "      <td>23</td>\n",
       "      <td>30</td>\n",
       "      <td>0.532243</td>\n",
       "      <td>0.722</td>\n",
       "      <td>0.007000</td>\n",
       "      <td>0.500</td>\n",
       "    </tr>\n",
       "  </tbody>\n",
       "</table>\n",
       "<p>497 rows × 6 columns</p>\n",
       "</div>"
      ],
      "text/plain": [
       "     Age  Games  Minutes Played  True Shooting(%)  Threepoint Attempt rate  \\\n",
       "0     21     28        0.370572             0.599                 0.000000   \n",
       "1     24      6        0.015441             0.125                 0.250000   \n",
       "2     27     27        0.690282             0.592                 0.406362   \n",
       "3     23     26        0.792916             0.641                 0.015000   \n",
       "4     35     18        0.435967             0.542                 0.298000   \n",
       "..   ...    ...             ...               ...                      ...   \n",
       "492   28     28        0.747502             0.559                 0.298000   \n",
       "493   32     23        0.537693             0.597                 0.104000   \n",
       "494   22     26        0.818347             0.598                 0.349000   \n",
       "495   28     15        0.327884             0.569                 0.133000   \n",
       "496   23     30        0.532243             0.722                 0.007000   \n",
       "\n",
       "     Free throw attempt rate  \n",
       "0                      0.541  \n",
       "1                      0.000  \n",
       "2                      0.397  \n",
       "3                      0.469  \n",
       "4                      0.093  \n",
       "..                       ...  \n",
       "492                    0.346  \n",
       "493                    0.169  \n",
       "494                    0.577  \n",
       "495                    0.242  \n",
       "496                    0.500  \n",
       "\n",
       "[497 rows x 6 columns]"
      ]
     },
     "metadata": {},
     "output_type": "display_data"
    },
    {
     "data": {
      "text/plain": [
       "0      15.1\n",
       "1      -6.9\n",
       "2      15.9\n",
       "3      22.7\n",
       "4      15.2\n",
       "       ... \n",
       "492    16.6\n",
       "493    18.5\n",
       "494    22.9\n",
       "495    18.2\n",
       "496    20.5\n",
       "Name: Player Efficiency Rating, Length: 497, dtype: float64"
      ]
     },
     "metadata": {},
     "output_type": "display_data"
    }
   ],
   "source": [
    "x = df.drop(\"Player Efficiency Rating\", 1)\n",
    "y = df['Player Efficiency Rating']\n",
    "df = df.drop(\"Player Efficiency Rating\", 1)\n",
    "display(df)\n",
    "\n",
    "display(y)\n",
    "x_train, x_test, y_train,y_test = train_test_split(df, y, test_size = 0.25);"
   ]
  },
  {
   "cell_type": "code",
   "execution_count": 335,
   "id": "849bbbee",
   "metadata": {},
   "outputs": [
    {
     "name": "stdout",
     "output_type": "stream",
     "text": [
      "(372, 6) (372,)\n",
      "(125, 6) (125,)\n"
     ]
    }
   ],
   "source": [
    "print(x_train.shape, y_train.shape)\n",
    "print(x_test.shape, y_test.shape)"
   ]
  },
  {
   "cell_type": "code",
   "execution_count": 336,
   "id": "bfe4374a",
   "metadata": {},
   "outputs": [],
   "source": [
    "lrm = linear_model.LinearRegression()\n",
    "lrm_model = lrm.fit(x_train, y_train)\n",
    "lrm_predictions = lrm.predict(x_test)"
   ]
  },
  {
   "cell_type": "code",
   "execution_count": 337,
   "id": "4e59dfe2",
   "metadata": {},
   "outputs": [
    {
     "data": {
      "text/plain": [
       "array([11.30534402, 12.45469066, 14.07164647, 22.88488755, 12.98798006,\n",
       "       14.56870004, 15.79202536, 10.5241257 , -4.61314773, 12.92915664])"
      ]
     },
     "execution_count": 337,
     "metadata": {},
     "output_type": "execute_result"
    }
   ],
   "source": [
    "lrm_predictions[0:10]"
   ]
  },
  {
   "cell_type": "code",
   "execution_count": 338,
   "id": "21870507",
   "metadata": {},
   "outputs": [
    {
     "data": {
      "text/plain": [
       "Text(0, 0.5, 'Predicted Values')"
      ]
     },
     "execution_count": 338,
     "metadata": {},
     "output_type": "execute_result"
    },
    {
     "data": {
      "image/png": "[encoded data removed]",
      "text/plain": [
       "<Figure size 432x288 with 1 Axes>"
      ]
     },
     "metadata": {
      "needs_background": "light"
     },
     "output_type": "display_data"
    }
   ],
   "source": [
    "plt.scatter(y_test, lrm_predictions)\n",
    "plt.title(\"Predicted vs Actual Values\")\n",
    "plt.xlabel('Actual Values')\n",
    "plt.ylabel('Predicted Values')"
   ]
  },
  {
   "cell_type": "code",
   "execution_count": 339,
   "id": "c1697b62",
   "metadata": {},
   "outputs": [
    {
     "name": "stdout",
     "output_type": "stream",
     "text": [
      "Score 0.6735722718302736\n"
     ]
    }
   ],
   "source": [
    "print('Score', lrm_model.score(x_test, y_test))"
   ]
  },
  {
   "cell_type": "code",
   "execution_count": null,
   "id": "37252413",
   "metadata": {},
   "outputs": [],
   "source": []
  }
 ],
 "metadata": {
  "kernelspec": {
   "display_name": "Python 3 (ipykernel)",
   "language": "python",
   "name": "python3"
  },
  "language_info": {
   "codemirror_mode": {
    "name": "ipython",
    "version": 3
   },
   "file_extension": ".py",
   "mimetype": "text/x-python",
   "name": "python",
   "nbconvert_exporter": "python",
   "pygments_lexer": "ipython3",
   "version": "3.9.7"
  }
 },
 "nbformat": 4,
 "nbformat_minor": 5
}
